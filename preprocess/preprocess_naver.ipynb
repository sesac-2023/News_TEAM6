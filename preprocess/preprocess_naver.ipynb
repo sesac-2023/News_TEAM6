{
 "cells": [
  {
   "cell_type": "code",
   "execution_count": 66,
   "metadata": {},
   "outputs": [],
   "source": [
    "import pandas as pd\n",
    "import numpy as np"
   ]
  },
  {
   "cell_type": "code",
   "execution_count": 100,
   "metadata": {},
   "outputs": [],
   "source": [
    "# naver news 전처리\n",
    "import pandas as pd\n",
    "import pickle\n",
    "import re\n",
    "# 00,01,02,03,04 차례대로 pkl파일 읽어오기\n",
    "with open(r'C:\\Users\\jangwj\\Downloads\\naver_news_data_pkl\\total_news_data_04.pkl', 'rb') as f:\n",
    "    df_naver = pd.DataFrame(pickle.load(f))\n",
    "\n",
    "ch_df = df_naver[df_naver[1].apply(lambda x: False if x.find('@')==-1 else True)][1].str.split('@').str[0].apply(lambda x: ' '.join(re.split(r'[(, )]', x)[:-1]))\n",
    "df_naver.loc[ch_df.index,1] = ch_df\n",
    "df_naver[9] = df_naver[9].apply(lambda x: ' '.join([_ for _ in x if '\\t' not in _ and '\\n' not in _]))\n",
    "df_naver[12] = '세계'\n",
    "df_naver = df_naver[[12,5,8,2,0,1,3,4,9,11,7]]\n",
    "df_columns = ['cat1_name', 'cat2_name', 'platform_name', 'title', 'press', 'writer', 'date_upload', 'date_fix', 'content', 'sticker', 'url']\n",
    "df_naver.columns = df_columns\n",
    "\n",
    "# 결측값은 모두 None으로 변경\n",
    "df_naver.loc[df_naver[df_naver['date_fix']=='null'].index, 'date_fix'] = None\n",
    "df_naver.loc[df_naver[df_naver['writer']=='null'].index, 'writer'] = None"
   ]
  },
  {
   "cell_type": "code",
   "execution_count": 101,
   "metadata": {},
   "outputs": [
    {
     "data": {
      "text/html": [
       "<div>\n",
       "<style scoped>\n",
       "    .dataframe tbody tr th:only-of-type {\n",
       "        vertical-align: middle;\n",
       "    }\n",
       "\n",
       "    .dataframe tbody tr th {\n",
       "        vertical-align: top;\n",
       "    }\n",
       "\n",
       "    .dataframe thead th {\n",
       "        text-align: right;\n",
       "    }\n",
       "</style>\n",
       "<table border=\"1\" class=\"dataframe\">\n",
       "  <thead>\n",
       "    <tr style=\"text-align: right;\">\n",
       "      <th></th>\n",
       "      <th>cat1_name</th>\n",
       "      <th>cat2_name</th>\n",
       "      <th>platform_name</th>\n",
       "      <th>title</th>\n",
       "      <th>press</th>\n",
       "      <th>writer</th>\n",
       "      <th>date_upload</th>\n",
       "      <th>date_fix</th>\n",
       "      <th>content</th>\n",
       "      <th>sticker</th>\n",
       "      <th>url</th>\n",
       "    </tr>\n",
       "  </thead>\n",
       "  <tbody>\n",
       "    <tr>\n",
       "      <th>0</th>\n",
       "      <td>세계</td>\n",
       "      <td>미국/중남미</td>\n",
       "      <td>Naver</td>\n",
       "      <td>“나체로 찍는다고 안했잖아”…수천억대 소송한 女배우의 정체</td>\n",
       "      <td>매일경제</td>\n",
       "      <td>이상규 매경닷컴 기자</td>\n",
       "      <td>2023-05-26 11:56:00</td>\n",
       "      <td>None</td>\n",
       "      <td>1968년 개봉한 영화 ‘로미오와 줄리엣’의 남녀 주연배우인 올리비아 핫세(71)와...</td>\n",
       "      <td>{'touched': 13, 'warm': 0, 'analytical': 0, 'l...</td>\n",
       "      <td>https://n.news.naver.com/mnews/article/009/000...</td>\n",
       "    </tr>\n",
       "    <tr>\n",
       "      <th>1</th>\n",
       "      <td>세계</td>\n",
       "      <td>미국/중남미</td>\n",
       "      <td>Naver</td>\n",
       "      <td>미 언론 “부채한도 협상 근접…2년 간 상한 올리고 정부 지출 제한”</td>\n",
       "      <td>경향신문</td>\n",
       "      <td>박은하 기자</td>\n",
       "      <td>2023-05-26 11:59:04</td>\n",
       "      <td>2023-05-26 15:51:01</td>\n",
       "      <td>미국 연방정부를 디폴트(채무불이행) 위기로 몰아넣을 수 있는 부채한도 협상이 합의에...</td>\n",
       "      <td>{'touched': 0, 'warm': 0, 'analytical': 1, 'li...</td>\n",
       "      <td>https://n.news.naver.com/mnews/article/032/000...</td>\n",
       "    </tr>\n",
       "    <tr>\n",
       "      <th>2</th>\n",
       "      <td>세계</td>\n",
       "      <td>미국/중남미</td>\n",
       "      <td>Naver</td>\n",
       "      <td>백악관·공화당, 부채한도 합의 근접… “2년간 올리되 연방정부 지출은 삭감”</td>\n",
       "      <td>문화일보</td>\n",
       "      <td>김남석 기자</td>\n",
       "      <td>2023-05-26 12:04:29</td>\n",
       "      <td>None</td>\n",
       "      <td>워싱턴 = 김남석 특파원 namdol@munhwa.com 미국 정부의 채무불이행(디...</td>\n",
       "      <td>{'touched': 0, 'warm': 0, 'analytical': 1, 'li...</td>\n",
       "      <td>https://n.news.naver.com/mnews/article/021/000...</td>\n",
       "    </tr>\n",
       "    <tr>\n",
       "      <th>3</th>\n",
       "      <td>세계</td>\n",
       "      <td>미국/중남미</td>\n",
       "      <td>Naver</td>\n",
       "      <td>통일부 \\'북미 지역 해외 이산가족 실태조사\\' 실시… 11월까지</td>\n",
       "      <td>뉴스1</td>\n",
       "      <td>김서연 기자</td>\n",
       "      <td>2023-05-26 11:54:38</td>\n",
       "      <td>2023-05-26 11:55:10</td>\n",
       "      <td>(서울=뉴스1) 김서연 기자 = 통일부가 '2023년 북미지역 해외 이산가족 실태조...</td>\n",
       "      <td>{'touched': 0, 'warm': 0, 'analytical': 0, 'li...</td>\n",
       "      <td>https://n.news.naver.com/mnews/article/421/000...</td>\n",
       "    </tr>\n",
       "    <tr>\n",
       "      <th>4</th>\n",
       "      <td>세계</td>\n",
       "      <td>미국/중남미</td>\n",
       "      <td>Naver</td>\n",
       "      <td>미 의회 난입 주도한 무장단체 설립자에게 징역 18년</td>\n",
       "      <td>경향신문</td>\n",
       "      <td>박은하 기자</td>\n",
       "      <td>2023-05-26 12:24:03</td>\n",
       "      <td>2023-05-26 16:58:03</td>\n",
       "      <td>미국 1·6 의회 난입 사태를 주도한 극우단체 지도자에게 미 법원이 징역 18년형을...</td>\n",
       "      <td>{'touched': 0, 'warm': 0, 'analytical': 0, 'li...</td>\n",
       "      <td>https://n.news.naver.com/mnews/article/032/000...</td>\n",
       "    </tr>\n",
       "  </tbody>\n",
       "</table>\n",
       "</div>"
      ],
      "text/plain": [
       "  cat1_name cat2_name platform_name  \\\n",
       "0        세계    미국/중남미         Naver   \n",
       "1        세계    미국/중남미         Naver   \n",
       "2        세계    미국/중남미         Naver   \n",
       "3        세계    미국/중남미         Naver   \n",
       "4        세계    미국/중남미         Naver   \n",
       "\n",
       "                                        title press       writer  \\\n",
       "0            “나체로 찍는다고 안했잖아”…수천억대 소송한 女배우의 정체  매일경제  이상규 매경닷컴 기자   \n",
       "1      미 언론 “부채한도 협상 근접…2년 간 상한 올리고 정부 지출 제한”  경향신문       박은하 기자   \n",
       "2  백악관·공화당, 부채한도 합의 근접… “2년간 올리되 연방정부 지출은 삭감”  문화일보       김남석 기자   \n",
       "3        통일부 \\'북미 지역 해외 이산가족 실태조사\\' 실시… 11월까지   뉴스1      김서연 기자    \n",
       "4               미 의회 난입 주도한 무장단체 설립자에게 징역 18년  경향신문       박은하 기자   \n",
       "\n",
       "           date_upload             date_fix  \\\n",
       "0  2023-05-26 11:56:00                 None   \n",
       "1  2023-05-26 11:59:04  2023-05-26 15:51:01   \n",
       "2  2023-05-26 12:04:29                 None   \n",
       "3  2023-05-26 11:54:38  2023-05-26 11:55:10   \n",
       "4  2023-05-26 12:24:03  2023-05-26 16:58:03   \n",
       "\n",
       "                                             content  \\\n",
       "0  1968년 개봉한 영화 ‘로미오와 줄리엣’의 남녀 주연배우인 올리비아 핫세(71)와...   \n",
       "1  미국 연방정부를 디폴트(채무불이행) 위기로 몰아넣을 수 있는 부채한도 협상이 합의에...   \n",
       "2  워싱턴 = 김남석 특파원 namdol@munhwa.com 미국 정부의 채무불이행(디...   \n",
       "3  (서울=뉴스1) 김서연 기자 = 통일부가 '2023년 북미지역 해외 이산가족 실태조...   \n",
       "4  미국 1·6 의회 난입 사태를 주도한 극우단체 지도자에게 미 법원이 징역 18년형을...   \n",
       "\n",
       "                                             sticker  \\\n",
       "0  {'touched': 13, 'warm': 0, 'analytical': 0, 'l...   \n",
       "1  {'touched': 0, 'warm': 0, 'analytical': 1, 'li...   \n",
       "2  {'touched': 0, 'warm': 0, 'analytical': 1, 'li...   \n",
       "3  {'touched': 0, 'warm': 0, 'analytical': 0, 'li...   \n",
       "4  {'touched': 0, 'warm': 0, 'analytical': 0, 'li...   \n",
       "\n",
       "                                                 url  \n",
       "0  https://n.news.naver.com/mnews/article/009/000...  \n",
       "1  https://n.news.naver.com/mnews/article/032/000...  \n",
       "2  https://n.news.naver.com/mnews/article/021/000...  \n",
       "3  https://n.news.naver.com/mnews/article/421/000...  \n",
       "4  https://n.news.naver.com/mnews/article/032/000...  "
      ]
     },
     "execution_count": 101,
     "metadata": {},
     "output_type": "execute_result"
    }
   ],
   "source": [
    "df_naver.head()"
   ]
  },
  {
   "cell_type": "code",
   "execution_count": 102,
   "metadata": {},
   "outputs": [
    {
     "data": {
      "text/html": [
       "<div>\n",
       "<style scoped>\n",
       "    .dataframe tbody tr th:only-of-type {\n",
       "        vertical-align: middle;\n",
       "    }\n",
       "\n",
       "    .dataframe tbody tr th {\n",
       "        vertical-align: top;\n",
       "    }\n",
       "\n",
       "    .dataframe thead th {\n",
       "        text-align: right;\n",
       "    }\n",
       "</style>\n",
       "<table border=\"1\" class=\"dataframe\">\n",
       "  <thead>\n",
       "    <tr style=\"text-align: right;\">\n",
       "      <th></th>\n",
       "      <th>0</th>\n",
       "      <th>1</th>\n",
       "      <th>2</th>\n",
       "      <th>3</th>\n",
       "      <th>4</th>\n",
       "    </tr>\n",
       "  </thead>\n",
       "  <tbody>\n",
       "    <tr>\n",
       "      <th>cat1_name</th>\n",
       "      <td>세계</td>\n",
       "      <td>세계</td>\n",
       "      <td>세계</td>\n",
       "      <td>세계</td>\n",
       "      <td>세계</td>\n",
       "    </tr>\n",
       "    <tr>\n",
       "      <th>cat2_name</th>\n",
       "      <td>미국/중남미</td>\n",
       "      <td>미국/중남미</td>\n",
       "      <td>미국/중남미</td>\n",
       "      <td>미국/중남미</td>\n",
       "      <td>미국/중남미</td>\n",
       "    </tr>\n",
       "    <tr>\n",
       "      <th>platform_name</th>\n",
       "      <td>Naver</td>\n",
       "      <td>Naver</td>\n",
       "      <td>Naver</td>\n",
       "      <td>Naver</td>\n",
       "      <td>Naver</td>\n",
       "    </tr>\n",
       "    <tr>\n",
       "      <th>title</th>\n",
       "      <td>“나체로 찍는다고 안했잖아”…수천억대 소송한 女배우의 정체</td>\n",
       "      <td>미 언론 “부채한도 협상 근접…2년 간 상한 올리고 정부 지출 제한”</td>\n",
       "      <td>백악관·공화당, 부채한도 합의 근접… “2년간 올리되 연방정부 지출은 삭감”</td>\n",
       "      <td>통일부 \\'북미 지역 해외 이산가족 실태조사\\' 실시… 11월까지</td>\n",
       "      <td>미 의회 난입 주도한 무장단체 설립자에게 징역 18년</td>\n",
       "    </tr>\n",
       "    <tr>\n",
       "      <th>press</th>\n",
       "      <td>매일경제</td>\n",
       "      <td>경향신문</td>\n",
       "      <td>문화일보</td>\n",
       "      <td>뉴스1</td>\n",
       "      <td>경향신문</td>\n",
       "    </tr>\n",
       "    <tr>\n",
       "      <th>writer</th>\n",
       "      <td>이상규 매경닷컴 기자</td>\n",
       "      <td>박은하 기자</td>\n",
       "      <td>김남석 기자</td>\n",
       "      <td>김서연 기자</td>\n",
       "      <td>박은하 기자</td>\n",
       "    </tr>\n",
       "    <tr>\n",
       "      <th>date_upload</th>\n",
       "      <td>2023-05-26 11:56:00</td>\n",
       "      <td>2023-05-26 11:59:04</td>\n",
       "      <td>2023-05-26 12:04:29</td>\n",
       "      <td>2023-05-26 11:54:38</td>\n",
       "      <td>2023-05-26 12:24:03</td>\n",
       "    </tr>\n",
       "    <tr>\n",
       "      <th>date_fix</th>\n",
       "      <td>None</td>\n",
       "      <td>2023-05-26 15:51:01</td>\n",
       "      <td>None</td>\n",
       "      <td>2023-05-26 11:55:10</td>\n",
       "      <td>2023-05-26 16:58:03</td>\n",
       "    </tr>\n",
       "    <tr>\n",
       "      <th>content</th>\n",
       "      <td>1968년 개봉한 영화 ‘로미오와 줄리엣’의 남녀 주연배우인 올리비아 핫세(71)와...</td>\n",
       "      <td>미국 연방정부를 디폴트(채무불이행) 위기로 몰아넣을 수 있는 부채한도 협상이 합의에...</td>\n",
       "      <td>워싱턴 = 김남석 특파원 namdol@munhwa.com 미국 정부의 채무불이행(디...</td>\n",
       "      <td>(서울=뉴스1) 김서연 기자 = 통일부가 '2023년 북미지역 해외 이산가족 실태조...</td>\n",
       "      <td>미국 1·6 의회 난입 사태를 주도한 극우단체 지도자에게 미 법원이 징역 18년형을...</td>\n",
       "    </tr>\n",
       "    <tr>\n",
       "      <th>sticker</th>\n",
       "      <td>{'touched': 13, 'warm': 0, 'analytical': 0, 'l...</td>\n",
       "      <td>{'touched': 0, 'warm': 0, 'analytical': 1, 'li...</td>\n",
       "      <td>{'touched': 0, 'warm': 0, 'analytical': 1, 'li...</td>\n",
       "      <td>{'touched': 0, 'warm': 0, 'analytical': 0, 'li...</td>\n",
       "      <td>{'touched': 0, 'warm': 0, 'analytical': 0, 'li...</td>\n",
       "    </tr>\n",
       "    <tr>\n",
       "      <th>url</th>\n",
       "      <td>https://n.news.naver.com/mnews/article/009/000...</td>\n",
       "      <td>https://n.news.naver.com/mnews/article/032/000...</td>\n",
       "      <td>https://n.news.naver.com/mnews/article/021/000...</td>\n",
       "      <td>https://n.news.naver.com/mnews/article/421/000...</td>\n",
       "      <td>https://n.news.naver.com/mnews/article/032/000...</td>\n",
       "    </tr>\n",
       "  </tbody>\n",
       "</table>\n",
       "</div>"
      ],
      "text/plain": [
       "                                                               0  \\\n",
       "cat1_name                                                     세계   \n",
       "cat2_name                                                 미국/중남미   \n",
       "platform_name                                              Naver   \n",
       "title                           “나체로 찍는다고 안했잖아”…수천억대 소송한 女배우의 정체   \n",
       "press                                                       매일경제   \n",
       "writer                                               이상규 매경닷컴 기자   \n",
       "date_upload                                  2023-05-26 11:56:00   \n",
       "date_fix                                                    None   \n",
       "content        1968년 개봉한 영화 ‘로미오와 줄리엣’의 남녀 주연배우인 올리비아 핫세(71)와...   \n",
       "sticker        {'touched': 13, 'warm': 0, 'analytical': 0, 'l...   \n",
       "url            https://n.news.naver.com/mnews/article/009/000...   \n",
       "\n",
       "                                                               1  \\\n",
       "cat1_name                                                     세계   \n",
       "cat2_name                                                 미국/중남미   \n",
       "platform_name                                              Naver   \n",
       "title                     미 언론 “부채한도 협상 근접…2년 간 상한 올리고 정부 지출 제한”   \n",
       "press                                                       경향신문   \n",
       "writer                                                    박은하 기자   \n",
       "date_upload                                  2023-05-26 11:59:04   \n",
       "date_fix                                     2023-05-26 15:51:01   \n",
       "content        미국 연방정부를 디폴트(채무불이행) 위기로 몰아넣을 수 있는 부채한도 협상이 합의에...   \n",
       "sticker        {'touched': 0, 'warm': 0, 'analytical': 1, 'li...   \n",
       "url            https://n.news.naver.com/mnews/article/032/000...   \n",
       "\n",
       "                                                               2  \\\n",
       "cat1_name                                                     세계   \n",
       "cat2_name                                                 미국/중남미   \n",
       "platform_name                                              Naver   \n",
       "title                 백악관·공화당, 부채한도 합의 근접… “2년간 올리되 연방정부 지출은 삭감”   \n",
       "press                                                       문화일보   \n",
       "writer                                                    김남석 기자   \n",
       "date_upload                                  2023-05-26 12:04:29   \n",
       "date_fix                                                    None   \n",
       "content        워싱턴 = 김남석 특파원 namdol@munhwa.com 미국 정부의 채무불이행(디...   \n",
       "sticker        {'touched': 0, 'warm': 0, 'analytical': 1, 'li...   \n",
       "url            https://n.news.naver.com/mnews/article/021/000...   \n",
       "\n",
       "                                                               3  \\\n",
       "cat1_name                                                     세계   \n",
       "cat2_name                                                 미국/중남미   \n",
       "platform_name                                              Naver   \n",
       "title                       통일부 \\'북미 지역 해외 이산가족 실태조사\\' 실시… 11월까지   \n",
       "press                                                        뉴스1   \n",
       "writer                                                   김서연 기자    \n",
       "date_upload                                  2023-05-26 11:54:38   \n",
       "date_fix                                     2023-05-26 11:55:10   \n",
       "content        (서울=뉴스1) 김서연 기자 = 통일부가 '2023년 북미지역 해외 이산가족 실태조...   \n",
       "sticker        {'touched': 0, 'warm': 0, 'analytical': 0, 'li...   \n",
       "url            https://n.news.naver.com/mnews/article/421/000...   \n",
       "\n",
       "                                                               4  \n",
       "cat1_name                                                     세계  \n",
       "cat2_name                                                 미국/중남미  \n",
       "platform_name                                              Naver  \n",
       "title                              미 의회 난입 주도한 무장단체 설립자에게 징역 18년  \n",
       "press                                                       경향신문  \n",
       "writer                                                    박은하 기자  \n",
       "date_upload                                  2023-05-26 12:24:03  \n",
       "date_fix                                     2023-05-26 16:58:03  \n",
       "content        미국 1·6 의회 난입 사태를 주도한 극우단체 지도자에게 미 법원이 징역 18년형을...  \n",
       "sticker        {'touched': 0, 'warm': 0, 'analytical': 0, 'li...  \n",
       "url            https://n.news.naver.com/mnews/article/032/000...  "
      ]
     },
     "execution_count": 102,
     "metadata": {},
     "output_type": "execute_result"
    }
   ],
   "source": [
    "df_naver.head().T"
   ]
  },
  {
   "cell_type": "code",
   "execution_count": 103,
   "metadata": {},
   "outputs": [],
   "source": [
    "df_naver.loc[(df_naver['content'] == ' '), 'content'] = df_naver['title']  # content 빈 셀을 title로 대체"
   ]
  },
  {
   "cell_type": "code",
   "execution_count": 104,
   "metadata": {},
   "outputs": [],
   "source": [
    "df_naver.loc[(df_naver['content'] == ''), 'content'] = df_naver['title']  # content 빈 셀을 title로 대체"
   ]
  },
  {
   "cell_type": "code",
   "execution_count": 105,
   "metadata": {},
   "outputs": [
    {
     "data": {
      "text/plain": [
       "0    1968년 개봉한 영화 ‘로미오와 줄리엣’의 남녀 주연배우인 올리비아 핫세(71)와...\n",
       "1    미국 연방정부를 디폴트(채무불이행) 위기로 몰아넣을 수 있는 부채한도 협상이 합의에...\n",
       "2    워싱턴 = 김남석 특파원 namdol@munhwa.com 미국 정부의 채무불이행(디...\n",
       "3    (서울=뉴스1) 김서연 기자 = 통일부가 '2023년 북미지역 해외 이산가족 실태조...\n",
       "4    미국 1·6 의회 난입 사태를 주도한 극우단체 지도자에게 미 법원이 징역 18년형을...\n",
       "Name: content, dtype: object"
      ]
     },
     "execution_count": 105,
     "metadata": {},
     "output_type": "execute_result"
    }
   ],
   "source": [
    "df_naver['content'].head()  # 본문내용만 필요함"
   ]
  },
  {
   "cell_type": "code",
   "execution_count": 106,
   "metadata": {},
   "outputs": [],
   "source": [
    "df_naver_content=df_naver['content']"
   ]
  },
  {
   "cell_type": "code",
   "execution_count": 82,
   "metadata": {},
   "outputs": [
    {
     "name": "stdout",
     "output_type": "stream",
     "text": [
      "Collecting openpyxl\n",
      "  Using cached openpyxl-3.1.2-py2.py3-none-any.whl (249 kB)\n",
      "Collecting et-xmlfile\n",
      "  Using cached et_xmlfile-1.1.0-py3-none-any.whl (4.7 kB)\n",
      "Installing collected packages: et-xmlfile, openpyxl\n",
      "Successfully installed et-xmlfile-1.1.0 openpyxl-3.1.2\n"
     ]
    },
    {
     "name": "stderr",
     "output_type": "stream",
     "text": [
      "WARNING: You are using pip version 22.0.4; however, version 23.2.1 is available.\n",
      "You should consider upgrading via the 'C:\\Users\\jangwj\\AppData\\Local\\Programs\\Python\\Python39\\python.exe -m pip install --upgrade pip' command.\n"
     ]
    }
   ],
   "source": [
    "# !pip install openpyxl"
   ]
  },
  {
   "cell_type": "code",
   "execution_count": 107,
   "metadata": {},
   "outputs": [],
   "source": [
    "df_naver_content.to_excel('naver_content_04.xlsx')  # 00,01,02,03,04 차례대로 엑셀파일 생성"
   ]
  },
  {
   "cell_type": "code",
   "execution_count": 108,
   "metadata": {},
   "outputs": [],
   "source": [
    "df0=pd.read_excel(\"./naver_content_00.xlsx\")\n",
    "df1=pd.read_excel(\"./naver_content_01.xlsx\")\n",
    "df2=pd.read_excel(\"./naver_content_02.xlsx\")\n",
    "df3=pd.read_excel(\"./naver_content_03.xlsx\")\n",
    "df4=pd.read_excel(\"./naver_content_04.xlsx\")\n",
    "\n",
    "df_total=pd.concat([df0,df1,df2,df3,df4])"
   ]
  },
  {
   "cell_type": "code",
   "execution_count": null,
   "metadata": {},
   "outputs": [],
   "source": [
    "# print(df_total)"
   ]
  },
  {
   "cell_type": "code",
   "execution_count": 109,
   "metadata": {},
   "outputs": [],
   "source": [
    "df_total.to_excel(r\"C:\\Users\\jangwj\\Desktop\\sesac-2023\\naver_content\\naver_content_total.xlsx\",index=False)"
   ]
  },
  {
   "cell_type": "code",
   "execution_count": 110,
   "metadata": {},
   "outputs": [],
   "source": [
    "df_naver=pd.read_excel(r\"C:\\Users\\jangwj\\Desktop\\sesac-2023\\naver_content\\naver_content_total.xlsx\")"
   ]
  },
  {
   "cell_type": "code",
   "execution_count": 111,
   "metadata": {},
   "outputs": [
    {
     "data": {
      "text/html": [
       "<div>\n",
       "<style scoped>\n",
       "    .dataframe tbody tr th:only-of-type {\n",
       "        vertical-align: middle;\n",
       "    }\n",
       "\n",
       "    .dataframe tbody tr th {\n",
       "        vertical-align: top;\n",
       "    }\n",
       "\n",
       "    .dataframe thead th {\n",
       "        text-align: right;\n",
       "    }\n",
       "</style>\n",
       "<table border=\"1\" class=\"dataframe\">\n",
       "  <thead>\n",
       "    <tr style=\"text-align: right;\">\n",
       "      <th></th>\n",
       "      <th>Unnamed: 0</th>\n",
       "      <th>content</th>\n",
       "    </tr>\n",
       "  </thead>\n",
       "  <tbody>\n",
       "    <tr>\n",
       "      <th>0</th>\n",
       "      <td>0</td>\n",
       "      <td>모로코 강진 발생 사흘 만인 11일(현지 시간) 스페인, 영국 등 해외 구조대가 현...</td>\n",
       "    </tr>\n",
       "    <tr>\n",
       "      <th>1</th>\n",
       "      <td>1</td>\n",
       "      <td>북-러 정상회담이 개최되면 블라디미르 푸틴 러시아 대통령은 김정은 북한 국무위원장에...</td>\n",
       "    </tr>\n",
       "    <tr>\n",
       "      <th>2</th>\n",
       "      <td>2</td>\n",
       "      <td>“여기 냄새가 이상해요. 아무래도 사람(시신)이 있는 것 같습니다.”  11일(현지...</td>\n",
       "    </tr>\n",
       "    <tr>\n",
       "      <th>3</th>\n",
       "      <td>3</td>\n",
       "      <td>그리스 사상 최악의 홍수로 15명의 사망자를 낸 폭풍 ‘대니얼’이 지중해 건너 북아...</td>\n",
       "    </tr>\n",
       "    <tr>\n",
       "      <th>4</th>\n",
       "      <td>4</td>\n",
       "      <td>러시아가 북한과의 정상회담에서 유엔 안전보장이사회 대북 제재 문제까지 논의할 수 있...</td>\n",
       "    </tr>\n",
       "  </tbody>\n",
       "</table>\n",
       "</div>"
      ],
      "text/plain": [
       "   Unnamed: 0                                            content\n",
       "0           0  모로코 강진 발생 사흘 만인 11일(현지 시간) 스페인, 영국 등 해외 구조대가 현...\n",
       "1           1  북-러 정상회담이 개최되면 블라디미르 푸틴 러시아 대통령은 김정은 북한 국무위원장에...\n",
       "2           2  “여기 냄새가 이상해요. 아무래도 사람(시신)이 있는 것 같습니다.”  11일(현지...\n",
       "3           3  그리스 사상 최악의 홍수로 15명의 사망자를 낸 폭풍 ‘대니얼’이 지중해 건너 북아...\n",
       "4           4  러시아가 북한과의 정상회담에서 유엔 안전보장이사회 대북 제재 문제까지 논의할 수 있..."
      ]
     },
     "execution_count": 111,
     "metadata": {},
     "output_type": "execute_result"
    }
   ],
   "source": [
    "#df_naver.head()"
   ]
  },
  {
   "cell_type": "code",
   "execution_count": 165,
   "metadata": {},
   "outputs": [],
   "source": [
    "# 댓글 전처리 내용 파일로 모으기"
   ]
  },
  {
   "cell_type": "code",
   "execution_count": 48,
   "metadata": {},
   "outputs": [],
   "source": [
    "# naver comment 전처리\n",
    "import pandas as pd\n",
    "import pickle\n",
    "import re\n",
    "from datetime import datetime\n",
    "# total_news_data_00.pkl, 01, 02, 03, 04 차례대로 실행\n",
    "with open(r'C:\\Users\\jangwj\\Downloads\\naver_news_data_pkl\\total_news_data_00.pkl', 'rb') as f:\n",
    "    df_naver = pd.DataFrame(pickle.load(f))\n",
    "df = df_naver[[10,7]]\n",
    "df.columns = ['comment', 'url']\n",
    "df = df[df.comment.apply(len)!=0].explode('comment').reset_index(drop=True)\n",
    "trash, df['comment'], df['user_id'], df['user_name'], df['date_upload'], df['date_fix'], df['good_cnt'], df['bad_cnt'] = zip(*df.comment.values)\n",
    "df['date_upload'] = [date__[:-5].replace('T', ' ') for date__ in df['date_upload']]\n",
    "df['date_fix'] = [' '.join(date__[:-5].split('T')) for date__ in df['date_fix']]\n",
    "df = df[~df.user_id.isna()].reset_index(drop=True)\n",
    "df_columns = ['user_id', 'user_name', 'comment', 'date_upload', 'date_fix', 'good_cnt', 'bad_cnt', 'url']\n",
    "df_naver = df[df_columns]"
   ]
  },
  {
   "cell_type": "code",
   "execution_count": null,
   "metadata": {},
   "outputs": [],
   "source": [
    "#df_naver.head()"
   ]
  },
  {
   "cell_type": "code",
   "execution_count": null,
   "metadata": {},
   "outputs": [],
   "source": [
    "#df_naver['comment']"
   ]
  },
  {
   "cell_type": "code",
   "execution_count": 51,
   "metadata": {},
   "outputs": [],
   "source": [
    "df_naver_comment=df_naver['comment']"
   ]
  },
  {
   "cell_type": "code",
   "execution_count": null,
   "metadata": {},
   "outputs": [],
   "source": [
    "df_naver_comment.to_excel('naver_comment_00.xlsx')  # 00,01,02,03,04 차례대로 엑셀파일 생성"
   ]
  },
  {
   "cell_type": "code",
   "execution_count": 17,
   "metadata": {},
   "outputs": [
    {
     "data": {
      "text/plain": [
       "'독립해라  여권이 필요\\x00한나라'"
      ]
     },
     "execution_count": 17,
     "metadata": {},
     "output_type": "execute_result"
    }
   ],
   "source": [
    "#df_naver_comment.apply(lambda x: x.)\n",
    "#df_naver_comment[df_naver_comment.apply(lambda x: '독립해라  ' in x)][211507]  # \\x00"
   ]
  },
  {
   "cell_type": "code",
   "execution_count": null,
   "metadata": {},
   "outputs": [],
   "source": [
    "# 위 5개 엑셀파일 생성 후 한개로 합치기"
   ]
  },
  {
   "cell_type": "code",
   "execution_count": 42,
   "metadata": {},
   "outputs": [],
   "source": [
    "df0=pd.read_excel(\"./naver_comment_00.xlsx\")\n",
    "df1=pd.read_excel(\"./naver_comment_01.xlsx\")\n",
    "df2=pd.read_excel(\"./naver_comment_02.xlsx\")\n",
    "df3=pd.read_excel(\"./naver_comment_03.xlsx\")\n",
    "df4=pd.read_excel(\"./naver_comment_04.xlsx\")\n",
    "\n",
    "df_total=pd.concat([df0,df1,df2,df3,df4])"
   ]
  },
  {
   "cell_type": "code",
   "execution_count": 43,
   "metadata": {},
   "outputs": [],
   "source": [
    "df_total.to_excel(r\"C:\\Users\\jangwj\\Desktop\\sesac-2023\\naver_content\\naver_comment_total_2.xlsx\",index=False)"
   ]
  },
  {
   "cell_type": "code",
   "execution_count": null,
   "metadata": {},
   "outputs": [],
   "source": [
    "#df_comment=pd.read_excel(r\"C:\\Users\\jangwj\\Desktop\\sesac-2023\\naver_content\\naver_comment_total.xlsx\")"
   ]
  },
  {
   "cell_type": "code",
   "execution_count": 45,
   "metadata": {},
   "outputs": [],
   "source": [
    "# 파일 특정 열 특정 단어 지우기\n",
    "# 엑셀 파일 읽기\n",
    "df = pd.read_excel(r'C:\\Users\\jangwj\\Desktop\\sesac-2023\\naver_content\\naver_comment_total_2.xlsx')\n",
    "\n",
    "# comment열에서 -> \\x00 제거\n",
    "df['comment'] = df['comment'].str.replace('\\x00', '')\n",
    "\n",
    "# 결과를 새로운 엑셀 파일에 저장\n",
    "df.to_excel(r'C:\\Users\\jangwj\\Desktop\\sesac-2023\\naver_content\\naver_comment_total_02.xlsx', index=False)"
   ]
  },
  {
   "cell_type": "markdown",
   "metadata": {},
   "source": [
    "# 클렌징(cleansing)"
   ]
  },
  {
   "cell_type": "code",
   "execution_count": null,
   "metadata": {},
   "outputs": [],
   "source": [
    "# 기사 내 이메일 제거\n",
    "# ...배포를 금지합니다...등 본문내용과는 상관없는 텍스트들 제거\n",
    "# 뉴스 전처리.txt 파일내에 정리됨"
   ]
  },
  {
   "cell_type": "code",
   "execution_count": null,
   "metadata": {},
   "outputs": [],
   "source": [
    "# 기사본문(content)"
   ]
  },
  {
   "cell_type": "code",
   "execution_count": 112,
   "metadata": {},
   "outputs": [],
   "source": [
    "df1 = pd.read_excel(r'C:\\Users\\jangwj\\Desktop\\sesac-2023\\naver_content\\naver_content_total.xlsx')"
   ]
  },
  {
   "cell_type": "code",
   "execution_count": null,
   "metadata": {},
   "outputs": [],
   "source": [
    "#df1.head()"
   ]
  },
  {
   "cell_type": "code",
   "execution_count": null,
   "metadata": {},
   "outputs": [],
   "source": [
    "# 기사댓글(comment)"
   ]
  },
  {
   "cell_type": "code",
   "execution_count": 48,
   "metadata": {},
   "outputs": [],
   "source": [
    "df2 = pd.read_excel(r'C:\\Users\\jangwj\\Desktop\\sesac-2023\\naver_content\\naver_comment_total_01.xlsx')"
   ]
  },
  {
   "cell_type": "code",
   "execution_count": null,
   "metadata": {},
   "outputs": [],
   "source": [
    "#df2.head()"
   ]
  },
  {
   "cell_type": "code",
   "execution_count": 50,
   "metadata": {},
   "outputs": [],
   "source": [
    "df3 = pd.read_excel(r'C:\\Users\\jangwj\\Desktop\\sesac-2023\\naver_content\\naver_comment_total_02.xlsx')"
   ]
  },
  {
   "cell_type": "code",
   "execution_count": null,
   "metadata": {},
   "outputs": [],
   "source": [
    "#df3.head()"
   ]
  },
  {
   "cell_type": "code",
   "execution_count": null,
   "metadata": {},
   "outputs": [],
   "source": [
    "'''\n",
    "import pandas as pd\n",
    "import re\n",
    "\n",
    "# 가정: df는 DataFrame, df['comment']는 처리하려는 컬럼입니다.\n",
    "# 이메일 주소 패턴\n",
    "email_pattern = '[a-zA-Z0-9_.+-]+@[a-zA-Z0-9-]+\\.[a-zA-Z0-9-.]+'\n",
    "\n",
    "# 'comment' 컬럼에서 이메일 주소를 찾아서 제거합니다.\n",
    "df['comment'] = df['comment'].apply(lambda x: re.sub(email_pattern, '', x))\n",
    "'''"
   ]
  },
  {
   "cell_type": "code",
   "execution_count": 54,
   "metadata": {},
   "outputs": [],
   "source": [
    "import pandas as pd\n",
    "import re"
   ]
  },
  {
   "cell_type": "code",
   "execution_count": 114,
   "metadata": {},
   "outputs": [
    {
     "data": {
      "text/plain": [
       "17"
      ]
     },
     "execution_count": 114,
     "metadata": {},
     "output_type": "execute_result"
    }
   ],
   "source": [
    "#df1['content'].isnull().sum()  # nan 값"
   ]
  },
  {
   "cell_type": "code",
   "execution_count": 115,
   "metadata": {},
   "outputs": [],
   "source": [
    "# 이메일 주소 패턴 제거(nan값이 있으면 공백)\n",
    "email_pattern = '[a-zA-Z0-9_.+-]+@[a-zA-Z0-9-]+\\.[a-zA-Z0-9-.]+'\n",
    "df1['content'] = df1['content'].apply(lambda x: re.sub(email_pattern, '', x) if type(x) != float else '')"
   ]
  },
  {
   "cell_type": "code",
   "execution_count": 72,
   "metadata": {},
   "outputs": [],
   "source": [
    "# 이메일 주소 패턴 제거(nan값이 있으면 공백)\n",
    "email_pattern = '[a-zA-Z0-9_.+-]+@[a-zA-Z0-9-]+\\.[a-zA-Z0-9-.]+'\n",
    "df2['comment'] = df2['comment'].apply(lambda x: re.sub(email_pattern, '', x) if type(x) != float else '')"
   ]
  },
  {
   "cell_type": "code",
   "execution_count": 73,
   "metadata": {},
   "outputs": [],
   "source": [
    "# 이메일 주소 패턴 제거(nan값이 있으면 공백)\n",
    "email_pattern = '[a-zA-Z0-9_.+-]+@[a-zA-Z0-9-]+\\.[a-zA-Z0-9-.]+'\n",
    "df3['comment'] = df3['comment'].apply(lambda x: re.sub(email_pattern, '', x) if type(x) != float else '')"
   ]
  },
  {
   "cell_type": "markdown",
   "metadata": {},
   "source": [
    "### 본문내용과는 상관없는 텍스트들 제거"
   ]
  },
  {
   "cell_type": "code",
   "execution_count": null,
   "metadata": {},
   "outputs": [],
   "source": [
    "#df1.head()"
   ]
  },
  {
   "cell_type": "code",
   "execution_count": null,
   "metadata": {},
   "outputs": [],
   "source": [
    "#df2.head()"
   ]
  },
  {
   "cell_type": "code",
   "execution_count": null,
   "metadata": {},
   "outputs": [],
   "source": [
    "#df3.head()"
   ]
  },
  {
   "cell_type": "code",
   "execution_count": 117,
   "metadata": {},
   "outputs": [
    {
     "data": {
      "text/plain": [
       "Unnamed: 0    0\n",
       "content       0\n",
       "dtype: int64"
      ]
     },
     "execution_count": 117,
     "metadata": {},
     "output_type": "execute_result"
    }
   ],
   "source": [
    "#df1.isnull().sum()"
   ]
  },
  {
   "cell_type": "code",
   "execution_count": 78,
   "metadata": {},
   "outputs": [
    {
     "data": {
      "text/plain": [
       "Unnamed: 0    0\n",
       "comment       0\n",
       "dtype: int64"
      ]
     },
     "execution_count": 78,
     "metadata": {},
     "output_type": "execute_result"
    }
   ],
   "source": [
    "#df2.isnull().sum()"
   ]
  },
  {
   "cell_type": "code",
   "execution_count": 79,
   "metadata": {},
   "outputs": [
    {
     "data": {
      "text/plain": [
       "Unnamed: 0    0\n",
       "comment       0\n",
       "dtype: int64"
      ]
     },
     "execution_count": 79,
     "metadata": {},
     "output_type": "execute_result"
    }
   ],
   "source": [
    "#df3.isnull().sum()"
   ]
  },
  {
   "cell_type": "code",
   "execution_count": 118,
   "metadata": {},
   "outputs": [
    {
     "name": "stdout",
     "output_type": "stream",
     "text": [
      "['트위터 @yonhap_graphics 페이스북 tuney.kr/LeYN1', '트위터 @yonhap_graphics', '▶제보는 카톡 okjebo', '■ 제보하기', '▷ 전화 : 02-781-1234, 4444', '▷ 이메일 : kbs1234@kbs.co.kr', \"▷ 카카오톡 : 'KBS제보' 검색, 채널 추가\", \"▷ 카카오 '마이뷰', 유튜브에서 KBS뉴스를 구독해주세요!\", \"※ '당신의 제보가 뉴스가 됩니다' [카카오톡] YTN 검색해 채널 추가 [전화] 02-398-8585 [메일] social@ytn.co.kr\", '무단전재, 재배포 및 AI 데이터 활용 금지', '리포트 원문보기 중앙일보 중국연구소', '방구석 도쿄통신 뉴스레터 구독하기', '연합뉴스TV 기사문의 및 제보 : 카톡/라인 jebo23(끝)', '▷ 전화 02-784-4000 ▷ 이메일 mbcjebo@mbc.co.kr ▷ 카카오톡 @mbc제보', '무단복제-재배포 금지', '무단전재 및 수집, 재배포금지', '무단전재 및 재배포 금지', '무단 전재 및 재배포 금지', '무단전재-재배포금지', '무단복제 및 전재 – 재배포금지', '무단전재-재배포 금지', \"▶카카오톡: '더팩트제보' 검색▶이메일: jebo@tf.co.kr▶뉴스 홈페이지: http://talk.tf.co.kr/bbs/report/write\"]\n"
     ]
    }
   ],
   "source": [
    "f = open(r'C:\\Users\\jangwj\\Desktop\\sesac-2023\\naver_content\\stopwords.txt', 'r', encoding='utf-8')\n",
    "stopwords = f.read().split(\"\\n\")\n",
    "print(stopwords)"
   ]
  },
  {
   "cell_type": "code",
   "execution_count": null,
   "metadata": {},
   "outputs": [],
   "source": [
    "# stopwords 리스트 내에 있는 문자열들을 데이터프레임 df1에서 content 컬럼에서 제거해주는 코드"
   ]
  },
  {
   "cell_type": "code",
   "execution_count": 119,
   "metadata": {},
   "outputs": [],
   "source": [
    "stopwords_pattern = '|'.join(r'\\b{}\\b'.format(word) for word in stopwords)\n",
    "df1['content'] = df1['content'].apply(lambda x: re.sub(stopwords_pattern, '', x))"
   ]
  },
  {
   "cell_type": "code",
   "execution_count": 121,
   "metadata": {},
   "outputs": [
    {
     "data": {
      "text/plain": [
       "0"
      ]
     },
     "execution_count": 121,
     "metadata": {},
     "output_type": "execute_result"
    }
   ],
   "source": [
    "#df1['content'].isnull().sum()"
   ]
  },
  {
   "cell_type": "code",
   "execution_count": 124,
   "metadata": {},
   "outputs": [
    {
     "data": {
      "text/plain": [
       "Unnamed: 0    0\n",
       "content       0\n",
       "dtype: int64"
      ]
     },
     "execution_count": 124,
     "metadata": {},
     "output_type": "execute_result"
    }
   ],
   "source": [
    "#df1.isnull().sum()"
   ]
  },
  {
   "cell_type": "code",
   "execution_count": 89,
   "metadata": {},
   "outputs": [],
   "source": [
    "# stopwords 리스트 내에 있는 문자열들을 데이터프레임 df2에서 comment 컬럼에서 제거해주는 코드\n",
    "# stopwords 리스트 내에 있는 문자열들을 데이터프레임 df3에서 comment 컬럼에서 제거해주는 코드"
   ]
  },
  {
   "cell_type": "code",
   "execution_count": 84,
   "metadata": {},
   "outputs": [],
   "source": [
    "stopwords_pattern = '|'.join(r'\\b{}\\b'.format(word) for word in stopwords)\n",
    "df2['comment'] = df2['comment'].apply(lambda x: re.sub(stopwords_pattern, '', x))"
   ]
  },
  {
   "cell_type": "code",
   "execution_count": 85,
   "metadata": {},
   "outputs": [],
   "source": [
    "stopwords_pattern = '|'.join(r'\\b{}\\b'.format(word) for word in stopwords)\n",
    "df3['comment'] = df3['comment'].apply(lambda x: re.sub(stopwords_pattern, '', x))"
   ]
  },
  {
   "cell_type": "code",
   "execution_count": null,
   "metadata": {},
   "outputs": [],
   "source": [
    "#df1.head()"
   ]
  },
  {
   "cell_type": "code",
   "execution_count": null,
   "metadata": {},
   "outputs": [],
   "source": [
    "#df2.head()"
   ]
  },
  {
   "cell_type": "code",
   "execution_count": null,
   "metadata": {},
   "outputs": [],
   "source": [
    "#df3.head()"
   ]
  },
  {
   "cell_type": "code",
   "execution_count": 125,
   "metadata": {},
   "outputs": [],
   "source": [
    "df1=df1['content']\n",
    "df2=df2['comment']\n",
    "df3=df3['comment']"
   ]
  },
  {
   "cell_type": "code",
   "execution_count": 126,
   "metadata": {},
   "outputs": [],
   "source": [
    "df1.to_excel(r'C:\\Users\\jangwj\\Desktop\\sesac-2023\\naver_content\\naver_content_final.xlsx', index=False)"
   ]
  },
  {
   "cell_type": "code",
   "execution_count": 95,
   "metadata": {},
   "outputs": [],
   "source": [
    "df2.to_excel(r'C:\\Users\\jangwj\\Desktop\\sesac-2023\\naver_content\\naver_comment1_final.xlsx', index=False)"
   ]
  },
  {
   "cell_type": "code",
   "execution_count": 96,
   "metadata": {},
   "outputs": [],
   "source": [
    "df3.to_excel(r'C:\\Users\\jangwj\\Desktop\\sesac-2023\\naver_content\\naver_comment2_final.xlsx', index=False)"
   ]
  },
  {
   "cell_type": "code",
   "execution_count": null,
   "metadata": {},
   "outputs": [],
   "source": [
    "'''\n",
    "영문만 추출, 제거\n",
    "영문은 소문자는 a-z, 대문자는 A-Z로 커버할 수 있습니다.\n",
    "\n",
    "같은 원리로 ^ 유무로 영어만 남기기 혹은 제거 여부를 구분해주실 수 있습니다.\n",
    "\n",
    "import re\n",
    "\n",
    "my_str = \"안녕하세요 ㅎㅎ. Hello World! 12345?\"\n",
    "\n",
    "eng_str = re.sub(r\"[^a-zA-Z\\s]\", \"\", my_str) # 영문자 + 공백만 남기기\n",
    "not_eng_str = re.sub(r\"[a-zA-Z]\", \"\", my_str) # 영문자만 제거하기\n",
    "lower_eng_str = re.sub(r\"[^a-z]\", \"\", my_str) # 소문자만 남기기\n",
    "\n",
    "print(eng_str) #   Hello World \n",
    "print(not_eng_str) # 안녕하세요 ㅎㅎ.  ! 12345?\n",
    "print(lower_eng_str) # elloorld\n",
    "'''"
   ]
  },
  {
   "cell_type": "code",
   "execution_count": null,
   "metadata": {},
   "outputs": [],
   "source": [
    "#df1.head()"
   ]
  },
  {
   "cell_type": "code",
   "execution_count": null,
   "metadata": {},
   "outputs": [],
   "source": [
    "#df2.head()"
   ]
  },
  {
   "cell_type": "code",
   "execution_count": null,
   "metadata": {},
   "outputs": [],
   "source": [
    "#df3.head()"
   ]
  },
  {
   "cell_type": "code",
   "execution_count": null,
   "metadata": {},
   "outputs": [],
   "source": [
    "# # 영문기사 0.3이상 기준 건수 검색\n",
    "# df1[df1.apply(lambda x: (len(re.sub('[a-zA-Z]', '', x))+1)/(len(x)+1)) > 0]"
   ]
  },
  {
   "cell_type": "code",
   "execution_count": null,
   "metadata": {},
   "outputs": [],
   "source": [
    "#df1.isnull().sum()"
   ]
  },
  {
   "cell_type": "code",
   "execution_count": null,
   "metadata": {},
   "outputs": [],
   "source": []
  }
 ],
 "metadata": {
  "kernelspec": {
   "display_name": "Python 3",
   "language": "python",
   "name": "python3"
  },
  "language_info": {
   "codemirror_mode": {
    "name": "ipython",
    "version": 3
   },
   "file_extension": ".py",
   "mimetype": "text/x-python",
   "name": "python",
   "nbconvert_exporter": "python",
   "pygments_lexer": "ipython3",
   "version": "3.9.13"
  },
  "orig_nbformat": 4
 },
 "nbformat": 4,
 "nbformat_minor": 2
}
